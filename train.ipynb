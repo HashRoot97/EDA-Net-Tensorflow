{
 "cells": [
  {
   "cell_type": "code",
   "execution_count": null,
   "metadata": {},
   "outputs": [],
   "source": [
    "import tensorflow as tf\n",
    "import cv2\n",
    "from matplotlib import pyplot as plt\n",
    "import os\n",
    "from scipy import misc\n",
    "import numpy as np\n",
    "from model import build_model, get_loss, get_train_op"
   ]
  },
  {
   "cell_type": "code",
   "execution_count": null,
   "metadata": {},
   "outputs": [],
   "source": [
    "num_classes = 40\n",
    "input_image = tf.placeholder(shape=(None, None, None, 3), dtype=tf.float32)\n",
    "input_labels = tf.placeholder(shape=(None, None, None, 1), dtype=tf.float32)\n",
    "learning_rate = tf.placeholder(shape=(), dtype=tf.float32)\n",
    "\n",
    "model_out, resized_model_out = build_model(input_image, num_classes)\n",
    "model_loss = get_loss(model_out, input_labels)\n",
    "\n",
    "train_op = get_train_op(model_loss, learning_rate)\n",
    "\n",
    "print('Model Output : ', model_out)\n",
    "print('Postprocessed Output : ', resized_model_out)"
   ]
  },
  {
   "cell_type": "code",
   "execution_count": null,
   "metadata": {},
   "outputs": [],
   "source": [
    "# with tf.Session() as sess:\n",
    "#     sess.run(tf.global_variables_initializer())\n",
    "#     writer = tf.summary.FileWriter('./logs/', sess.graph)\n",
    "#     writer.close()"
   ]
  },
  {
   "cell_type": "code",
   "execution_count": null,
   "metadata": {},
   "outputs": [],
   "source": [
    "def extract_fn(data_tfrecord):\n",
    "    features = {\n",
    "        'image' : tf.FixedLenFeature([], tf.string),\n",
    "        'mask' : tf.FixedLenFeature([], tf.string)\n",
    "    }\n",
    "    sample = tf.parse_single_example(data_tfrecord, features)\n",
    "    image = tf.image.decode_image(sample['image'])\n",
    "    mask = tf.image.decode_image(sample['mask'])\n",
    "    \n",
    "    return image, mask"
   ]
  },
  {
   "cell_type": "code",
   "execution_count": null,
   "metadata": {},
   "outputs": [],
   "source": [
    "training_filenames = ['./../preperation/IDD/TFRecords/' + ele for ele in os.listdir('./../preperation/IDD/TFRecords/')]\n",
    "filenames = tf.placeholder(tf.string, shape=[None])\n",
    "dataset = tf.data.TFRecordDataset(filenames)\n",
    "dataset = dataset.map(extract_fn)\n",
    "dataset = dataset.repeat()\n",
    "dataset = dataset.batch(4)\n",
    "# iterator = dataset.make_one_shot_iterator()\n",
    "iterator = dataset.make_initializable_iterator()\n",
    "next_element = iterator.get_next()\n",
    "\n",
    "with tf.Session() as sess:\n",
    "    sess.run(tf.global_variables_initializer())\n",
    "    for i in range(10):\n",
    "        while True:\n",
    "            sess.run(iterator.initializer, feed_dict={filenames: training_filenames})\n",
    "            data_record = sess.run(next_element)\n",
    "            _, loss = sess.run([train_op, model_loss], feed_dict={input_image:data_record[0], input_labels:np.expand_dims(data_record[1][:, :, :, 0], axis=-1), learning_rate:1e-3})\n",
    "            print(loss)\n",
    "    print('Epoch Completed')\n",
    "#         data_record = sess.run(next_element)\n",
    "#         print(type(data_record))\n",
    "#         new_im = cv2.cvtColor(data_record[1], cv2.COLOR_BGR2RGB)\n",
    "#         cv2.imwrite('a.jpg', new_im)\n",
    "#         cv2.imshow('Image', new_im)\n",
    "#         cv2.waitKey(0)\n",
    "#         cv2.destroyAllWindows()"
   ]
  },
  {
   "cell_type": "code",
   "execution_count": null,
   "metadata": {},
   "outputs": [],
   "source": []
  }
 ],
 "metadata": {
  "kernelspec": {
   "display_name": "Python 3",
   "language": "python",
   "name": "python3"
  },
  "language_info": {
   "codemirror_mode": {
    "name": "ipython",
    "version": 3
   },
   "file_extension": ".py",
   "mimetype": "text/x-python",
   "name": "python",
   "nbconvert_exporter": "python",
   "pygments_lexer": "ipython3",
   "version": "3.6.6"
  }
 },
 "nbformat": 4,
 "nbformat_minor": 2
}
